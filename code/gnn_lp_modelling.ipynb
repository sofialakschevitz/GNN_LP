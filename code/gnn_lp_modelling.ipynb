{
 "cells": [
  {
   "cell_type": "code",
   "execution_count": 1,
   "metadata": {},
   "outputs": [],
   "source": [
    "import os\n",
    "import torch\n",
    "import numpy as np\n",
    "import torch.nn as nn\n",
    "import matplotlib.pyplot as plt\n",
    "\n",
    "from torch.utils.data import random_split\n",
    "from gnn import LPGCN\n",
    "from linear_program import gen_data"
   ]
  },
  {
   "cell_type": "code",
   "execution_count": 26,
   "metadata": {},
   "outputs": [],
   "source": [
    "#Definindo os parâmetros do modelo\n",
    "num_constraints = 2\n",
    "num_variables = 4\n",
    "batch_size = 2\n",
    "learning_rate = 0.003\n",
    "num_data = 10\n",
    "\n",
    "device = device = torch.device('cuda:0' if torch.cuda.is_available() else 'cpu')\n",
    "\n",
    "epochs = 50"
   ]
  },
  {
   "cell_type": "code",
   "execution_count": 27,
   "metadata": {},
   "outputs": [],
   "source": [
    "def train(train_data, val_data, out_func, epochs, num_constraints, num_variables):\n",
    "    model = LPGCN(num_constraints, num_variables).to(device)\n",
    "\n",
    "    criterion = nn.MSELoss()\n",
    "    optimizer = torch.optim.Adam(model.parameters(), lr=0.001)\n",
    "\n",
    "    train_loss = []\n",
    "    val_loss = []\n",
    "\n",
    "    def unpack_vars(data):\n",
    "        c, A, b, constraints, l, u, sol, feas, edge_index = data\n",
    "        c = c.to(device)\n",
    "        A = A.to(device)\n",
    "        b = b.to(device)\n",
    "        constraints = constraints.to(device)\n",
    "        l = l.to(device)\n",
    "        u = u.to(device)\n",
    "        sol = sol.to(device)\n",
    "        return c, A, b, constraints, l, u, sol, feas, edge_index\n",
    "\n",
    "    # optimize parameters and calculates training loss\n",
    "    for epoch in range(epochs):  # loop over the dataset multiple times\n",
    "        running_loss = 0.0\n",
    "\n",
    "        for dataloader in train_data:\n",
    "            for batch in dataloader:\n",
    "                optimizer.zero_grad()\n",
    "                c, A, b, constraints, l, u, sol, feas, edge_index = unpack_vars(batch)\n",
    "                out = model(c, A, b, constraints, l, u, edge_index, out_func)\n",
    "\n",
    "                #Calculando a perda    \n",
    "                if out_func == 'feas':\n",
    "                    loss = (out.shape[0] - torch.sum(torch.eq(out, feas))) / out.shape[0]\n",
    "                elif out_func == 'obj':\n",
    "                    loss = criterion(out[:,0], torch.sum(c * sol, dim=1))\n",
    "                else:\n",
    "                    loss = criterion(out, sol)\n",
    "\n",
    "                if out_func != 'feas':\n",
    "                    loss.backward()\n",
    "                    optimizer.step()\n",
    "\n",
    "                running_loss += loss.item()\n",
    "\n",
    "        train_loss += [running_loss]\n",
    "\n",
    "        # backup of optimized parameters\n",
    "        if not os.path.exists(f'model_{out_func}_backups'):\n",
    "            os.makedirs(f'model_{out_func}_backups')\n",
    "\n",
    "        torch.save(model, f'model_{out_func}_backups/model_{out_func}_{epoch}.pt')\n",
    "        \n",
    "        # calculates validation error\n",
    "        running_loss = 0.0\n",
    "\n",
    "        for dataloader in val_data:\n",
    "            for batch in dataloader:\n",
    "                c, A, b, constraints, l, u, sol, feas, edge_index = unpack_vars(batch)\n",
    "                out = model(c, A, b, constraints, l, u, edge_index, out_func)\n",
    "\n",
    "                if out_func == 'feas':\n",
    "                    loss = (out.shape[0] - torch.sum(torch.eq(out, feas))) / out.shape[0]\n",
    "\n",
    "                elif out_func == 'obj':\n",
    "                    loss = criterion(out[:,0], torch.sum(c * sol, dim=1))\n",
    "\n",
    "                else:\n",
    "                    loss = criterion(out, sol)\n",
    "\n",
    "                running_loss += loss.item()\n",
    "\n",
    "        val_loss += [running_loss]\n",
    "\n",
    "    return train_loss, val_loss"
   ]
  },
  {
   "cell_type": "code",
   "execution_count": 33,
   "metadata": {},
   "outputs": [],
   "source": [
    "out_func = 'obj'\n",
    "\n",
    "#Conjunto de treinamento contendo 70% dos dados\n",
    "train_set_obj = gen_data(int(num_data*0.7), batch_size, num_variables, num_constraints, out_func)\n",
    "\n",
    "train_size = int(0.7 * len(train_set_obj))\n",
    "validation_size = len(train_set_obj) - train_size\n",
    "\n",
    "#Dividindo o conjunto de treinamento em treinamento e validação\n",
    "train_set_obj, val_set_obj = random_split(train_set_obj, [train_size, validation_size])\n",
    "\n",
    "#Criando o conjunto de teste contendo 30% dos dados\n",
    "test_data_obj = gen_data(int(num_data*0.3), batch_size, num_variables, num_constraints, out_func)"
   ]
  },
  {
   "cell_type": "code",
   "execution_count": 40,
   "metadata": {},
   "outputs": [
    {
     "data": {
      "image/png": "[encoded data removed]",
      "text/plain": [
       "<Figure size 640x480 with 1 Axes>"
      ]
     },
     "metadata": {},
     "output_type": "display_data"
    }
   ],
   "source": [
    "train_loss, val_loss = train(train_set_obj, val_set_obj, out_func, epochs, num_constraints, num_variables)\n",
    "\n",
    "\n",
    "x = [i for i in range(epochs)]\n",
    "\n",
    "plt.plot(x, train_loss, 'o', color='red')\n",
    "plt.plot(x, val_loss, 'o', color='blue')\n",
    "plt.show()"
   ]
  },
  {
   "cell_type": "markdown",
   "metadata": {},
   "source": [
    "O gráfico que você forneceu mostra as perdas de treinamento (vermelho) e validação (azul) ao longo de 50 épocas. Vamos analisar o comportamento das curvas e o que isso pode indicar sobre o treinamento do modelo:\n",
    "\n",
    "1. **Perda Inicial Alta**:\n",
    "   - No início do treinamento (épocas iniciais), as perdas são altas para ambos os conjuntos de treinamento e validação. Isso é esperado, pois o modelo está começando a aprender e ajustar seus parâmetros.\n",
    "\n",
    "2. **Redução Rápida das Perdas**:\n",
    "   - As perdas caem rapidamente nas primeiras 10-15 épocas, indicando que o modelo está aprendendo efetivamente e ajustando seus parâmetros para melhor se adequar aos dados.\n",
    "\n",
    "3. **Estabilização das Perdas**:\n",
    "   - Após a redução inicial, as perdas começam a estabilizar em valores baixos, com pequenas oscilações. Isso sugere que o modelo está se aproximando de um mínimo local e refinando seus parâmetros.\n",
    "\n",
    "4. **Pequenas Oscilações**:\n",
    "   - As pequenas oscilações nas perdas, especialmente na validação, são normais e podem ocorrer devido à variação nos dados de validação ou pequenas atualizações nos pesos do modelo.\n",
    "\n",
    "### Conclusões\n",
    "\n",
    "- **Bom Desempenho de Treinamento**:\n",
    "  - A perda de treinamento (vermelha) continua a diminuir e estabiliza em um valor baixo, indicando que o modelo está aprendendo bem com os dados de treinamento.\n",
    "\n",
    "- **Bom Desempenho de Validação**:\n",
    "  - A perda de validação (azul) também diminui e estabiliza em um valor similar à perda de treinamento. Isso indica que o modelo generaliza bem para novos dados que não foram vistos durante o treinamento.\n",
    "\n",
    "- **Ausência de Overfitting ou Underfitting Significativo**:\n",
    "  - Não há uma diferença significativa entre as curvas de treinamento e validação. Se a perda de validação fosse significativamente maior do que a de treinamento, isso indicaria overfitting. Se ambas as perdas fossem altas e não diminuíssem, isso indicaria underfitting. O gráfico atual não mostra nenhum desses problemas.\n",
    "\n",
    "Portanto, o gráfico indica que o modelo está treinando de forma eficaz e generalizando bem para os dados de validação, o que é um sinal positivo para o desempenho do modelo."
   ]
  },
  {
   "cell_type": "code",
   "execution_count": 41,
   "metadata": {},
   "outputs": [
    {
     "data": {
      "text/plain": [
       "13"
      ]
     },
     "execution_count": 41,
     "metadata": {},
     "output_type": "execute_result"
    }
   ],
   "source": [
    "opt_idx = val_loss.index(min(val_loss))\n",
    "opt_model = torch.load(f'model_{out_func}_backups/model_{out_func}_{opt_idx}.pt').to('cpu')\n",
    "opt_idx"
   ]
  },
  {
   "cell_type": "markdown",
   "metadata": {},
   "source": [
    "Esse código identifica a melhor época de treinamento baseada na perda de validação, carrega o modelo treinado correspondente a essa época, move-o para a CPU e retorna o índice da época ótima. Isso permite utilizar o melhor modelo encontrado durante o treinamento para avaliação ou inferência em novos dados."
   ]
  },
  {
   "cell_type": "code",
   "execution_count": 31,
   "metadata": {},
   "outputs": [
    {
     "data": {
      "text/plain": [
       "0.014595365229373177"
      ]
     },
     "execution_count": 31,
     "metadata": {},
     "output_type": "execute_result"
    }
   ],
   "source": [
    "running_loss = 0.0\n",
    "objs = []\n",
    "for dataloader in test_data_obj:\n",
    "    for batch in dataloader:\n",
    "        c, A, b, constraints, l, u, sol, feas, edge_index = batch\n",
    "        out = opt_model(c, A, b, constraints, l, u, edge_index, out_func)\n",
    "        objs.append(torch.sum(c * sol, dim=1))\n",
    "        loss = torch.mean(torch.square(out[:,0].T - torch.sum(c * sol, dim=1))) ** 1/2\n",
    "\n",
    "        running_loss += loss.item()\n",
    "\n",
    "running_loss / int(num_data*0.3)"
   ]
  },
  {
   "cell_type": "code",
   "execution_count": 32,
   "metadata": {},
   "outputs": [
    {
     "name": "stdout",
     "output_type": "stream",
     "text": [
      "tensor([-0.2227], grad_fn=<SelectBackward0>) tensor(-0.0708)\n",
      "tensor([-0.0115], grad_fn=<SelectBackward0>) tensor(0.0670)\n",
      "tensor([-0.3919], grad_fn=<SelectBackward0>) tensor(-0.1986)\n"
     ]
    }
   ],
   "source": [
    "for dataloader in test_data_obj:\n",
    "    for batch in dataloader:\n",
    "        c, A, b, constraints, l, u, sol, feas, edge_index = batch\n",
    "        out = opt_model(c, A, b, constraints, l, u, edge_index, out_func)\n",
    "        print(out[0], torch.sum((c * sol)[0]))\n",
    "        break"
   ]
  }
 ],
 "metadata": {
  "kernelspec": {
   "display_name": "Python 3",
   "language": "python",
   "name": "python3"
  },
  "language_info": {
   "codemirror_mode": {
    "name": "ipython",
    "version": 3
   },
   "file_extension": ".py",
   "mimetype": "text/x-python",
   "name": "python",
   "nbconvert_exporter": "python",
   "pygments_lexer": "ipython3",
   "version": "3.11.2"
  },
  "orig_nbformat": 4
 },
 "nbformat": 4,
 "nbformat_minor": 2
}
